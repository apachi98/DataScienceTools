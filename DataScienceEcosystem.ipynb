{
 "cells": [
  {
   "cell_type": "markdown",
   "id": "43653762",
   "metadata": {},
   "source": [
    "# Data Science Tools and Ecosystem"
   ]
  },
  {
   "cell_type": "markdown",
   "id": "c10f5c08",
   "metadata": {},
   "source": [
    "In this notebook, Data Science Tools and Ecosystem are summarized."
   ]
  },
  {
   "cell_type": "markdown",
   "id": "22cefdc3",
   "metadata": {},
   "source": [
    "**Objective:**\n",
    "\n",
    "* Add comments to code cell\n",
    "* Create markdown cells\n",
    "* List popular languages for Data Science \n",
    "* List libraries for Data Science"
   ]
  },
  {
   "cell_type": "markdown",
   "id": "7cc6e9c6",
   "metadata": {},
   "source": [
    "Some of the popular languages that Data Scientists use are:\n",
    "\n",
    "1. Python\n",
    "2. SQL\n",
    "3. Java\n",
    "4. R\n",
    "5. C++, etc."
   ]
  },
  {
   "cell_type": "markdown",
   "id": "05af4e39",
   "metadata": {},
   "source": [
    "Some of the commonly used libraries used by Data Scientists include:\n",
    "\n",
    "1. SciPy\n",
    "2. NumPy\n",
    "3. TensorFlow\n",
    "4. Pandas\n",
    "5. PyTorch\n",
    "6. Keras, etc."
   ]
  },
  {
   "cell_type": "markdown",
   "id": "e3236751",
   "metadata": {},
   "source": [
    "|Data Science Tools|\n",
    "|------------------|\n",
    "|Anaconda|\n",
    "|Jupyter Notebook|\n",
    "|R Studio|\n",
    "|Spyder|\n"
   ]
  },
  {
   "cell_type": "markdown",
   "id": "610e2b5a",
   "metadata": {},
   "source": [
    "**Below are a few examples of evaluating arithmetic expressions in Python.**\n"
   ]
  },
  {
   "cell_type": "code",
   "execution_count": 1,
   "id": "e167f786",
   "metadata": {
    "scrolled": true
   },
   "outputs": [
    {
     "data": {
      "text/plain": [
       "17"
      ]
     },
     "execution_count": 1,
     "metadata": {},
     "output_type": "execute_result"
    }
   ],
   "source": [
    "#This a simple arithmetic expression to mutiply then add integers\n",
    "(3*4)+5"
   ]
  },
  {
   "cell_type": "code",
   "execution_count": 3,
   "id": "a70f06c7",
   "metadata": {},
   "outputs": [
    {
     "data": {
      "text/plain": [
       "3.3333333333333335"
      ]
     },
     "execution_count": 3,
     "metadata": {},
     "output_type": "execute_result"
    }
   ],
   "source": [
    "#This will convert 200 minutes to hours by diving by 60\n",
    "200/60"
   ]
  },
  {
   "cell_type": "markdown",
   "id": "75f5d19b",
   "metadata": {},
   "source": [
    "## Author\n",
    "Nikita Kobyakov"
   ]
  },
  {
   "cell_type": "code",
   "execution_count": null,
   "id": "719f14d0",
   "metadata": {},
   "outputs": [],
   "source": []
  }
 ],
 "metadata": {
  "kernelspec": {
   "display_name": "Python 3 (ipykernel)",
   "language": "python",
   "name": "python3"
  },
  "language_info": {
   "codemirror_mode": {
    "name": "ipython",
    "version": 3
   },
   "file_extension": ".py",
   "mimetype": "text/x-python",
   "name": "python",
   "nbconvert_exporter": "python",
   "pygments_lexer": "ipython3",
   "version": "3.11.5"
  }
 },
 "nbformat": 4,
 "nbformat_minor": 5
}
